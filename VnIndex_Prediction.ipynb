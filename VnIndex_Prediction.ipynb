{
  "nbformat": 4,
  "nbformat_minor": 0,
  "metadata": {
    "colab": {
      "name": "VnIndex Prediction.ipynb",
      "provenance": [],
      "collapsed_sections": [],
      "toc_visible": true,
      "authorship_tag": "ABX9TyObzA4PJFQ9arJ0UYDm4/pP",
      "include_colab_link": true
    },
    "kernelspec": {
      "name": "python3",
      "display_name": "Python 3"
    },
    "language_info": {
      "name": "python"
    }
  },
  "cells": [
    {
      "cell_type": "markdown",
      "metadata": {
        "id": "view-in-github",
        "colab_type": "text"
      },
      "source": [
        "<a href=\"https://colab.research.google.com/github/duy238/Vnindex_predict/blob/main/VnIndex_Prediction.ipynb\" target=\"_parent\"><img src=\"https://colab.research.google.com/assets/colab-badge.svg\" alt=\"Open In Colab\"/></a>"
      ]
    },
    {
      "cell_type": "code",
      "metadata": {
        "id": "kF4RwvMuHrC6"
      },
      "source": [
        "import numpy as np\n",
        "import pandas as pd\n",
        "import tensorflow as tf\n",
        "import matplotlib.pyplot as plt\n",
        "import os\n",
        "\n",
        "from sklearn.model_selection import train_test_split"
      ],
      "execution_count": 1,
      "outputs": []
    },
    {
      "cell_type": "code",
      "metadata": {
        "id": "ZoYv1OnjdbIe"
      },
      "source": [
        "from google_drive_downloader import GoogleDriveDownloader as gdd\n",
        "\n",
        "gdd.download_file_from_google_drive(file_id='1SA4C8-3RD8Ib8R0IiVKtGv39AJSBVVQy', dest_path='./vnindex2.csv')"
      ],
      "execution_count": 2,
      "outputs": []
    },
    {
      "cell_type": "markdown",
      "metadata": {
        "id": "Z1Ec6hDb_fNP"
      },
      "source": [
        "# Load and Preprocess Data"
      ]
    },
    {
      "cell_type": "code",
      "metadata": {
        "id": "340KnqjmZqL9"
      },
      "source": [
        "dtypes = {'Price': np.float64, 'Open': np.float64, 'High': np.float64, \n",
        "          'Low': np.float64, 'Change': np.float64}\n",
        "train_df = pd.read_csv('vnindex2.csv', dtype=dtypes)"
      ],
      "execution_count": 3,
      "outputs": []
    },
    {
      "cell_type": "code",
      "metadata": {
        "colab": {
          "base_uri": "https://localhost:8080/",
          "height": 206
        },
        "id": "gCQ5VxvxaFMm",
        "outputId": "ed51fc61-5233-4b17-8353-2d59ae3749c6"
      },
      "source": [
        "train_df.head()"
      ],
      "execution_count": 4,
      "outputs": [
        {
          "output_type": "execute_result",
          "data": {
            "text/html": [
              "<div>\n",
              "<style scoped>\n",
              "    .dataframe tbody tr th:only-of-type {\n",
              "        vertical-align: middle;\n",
              "    }\n",
              "\n",
              "    .dataframe tbody tr th {\n",
              "        vertical-align: top;\n",
              "    }\n",
              "\n",
              "    .dataframe thead th {\n",
              "        text-align: right;\n",
              "    }\n",
              "</style>\n",
              "<table border=\"1\" class=\"dataframe\">\n",
              "  <thead>\n",
              "    <tr style=\"text-align: right;\">\n",
              "      <th></th>\n",
              "      <th>Date</th>\n",
              "      <th>Price</th>\n",
              "      <th>Open</th>\n",
              "      <th>High</th>\n",
              "      <th>Low</th>\n",
              "      <th>Vol.</th>\n",
              "      <th>Change</th>\n",
              "    </tr>\n",
              "  </thead>\n",
              "  <tbody>\n",
              "    <tr>\n",
              "      <th>0</th>\n",
              "      <td>6/3/2021</td>\n",
              "      <td>1364.28</td>\n",
              "      <td>1345.21</td>\n",
              "      <td>1366.00</td>\n",
              "      <td>1345.21</td>\n",
              "      <td>898.88K</td>\n",
              "      <td>0.02</td>\n",
              "    </tr>\n",
              "    <tr>\n",
              "      <th>1</th>\n",
              "      <td>6/2/2021</td>\n",
              "      <td>1340.78</td>\n",
              "      <td>1337.78</td>\n",
              "      <td>1344.98</td>\n",
              "      <td>1330.82</td>\n",
              "      <td>805.24K</td>\n",
              "      <td>0.00</td>\n",
              "    </tr>\n",
              "    <tr>\n",
              "      <th>2</th>\n",
              "      <td>6/1/2021</td>\n",
              "      <td>1337.78</td>\n",
              "      <td>1329.47</td>\n",
              "      <td>1346.34</td>\n",
              "      <td>1328.84</td>\n",
              "      <td>629.42K</td>\n",
              "      <td>0.01</td>\n",
              "    </tr>\n",
              "    <tr>\n",
              "      <th>3</th>\n",
              "      <td>5/31/2021</td>\n",
              "      <td>1328.05</td>\n",
              "      <td>1326.65</td>\n",
              "      <td>1328.05</td>\n",
              "      <td>1307.56</td>\n",
              "      <td>737.18K</td>\n",
              "      <td>0.01</td>\n",
              "    </tr>\n",
              "    <tr>\n",
              "      <th>4</th>\n",
              "      <td>5/28/2021</td>\n",
              "      <td>1320.46</td>\n",
              "      <td>1307.79</td>\n",
              "      <td>1323.09</td>\n",
              "      <td>1300.06</td>\n",
              "      <td>768.85K</td>\n",
              "      <td>0.01</td>\n",
              "    </tr>\n",
              "  </tbody>\n",
              "</table>\n",
              "</div>"
            ],
            "text/plain": [
              "        Date    Price     Open     High      Low     Vol.  Change\n",
              "0   6/3/2021  1364.28  1345.21  1366.00  1345.21  898.88K    0.02\n",
              "1   6/2/2021  1340.78  1337.78  1344.98  1330.82  805.24K    0.00\n",
              "2   6/1/2021  1337.78  1329.47  1346.34  1328.84  629.42K    0.01\n",
              "3  5/31/2021  1328.05  1326.65  1328.05  1307.56  737.18K    0.01\n",
              "4  5/28/2021  1320.46  1307.79  1323.09  1300.06  768.85K    0.01"
            ]
          },
          "metadata": {
            "tags": []
          },
          "execution_count": 4
        }
      ]
    },
    {
      "cell_type": "markdown",
      "metadata": {
        "id": "0z7NhNoM3gOc"
      },
      "source": [
        "## Add technical indicators"
      ]
    },
    {
      "cell_type": "code",
      "metadata": {
        "id": "pXaigFniy_o7"
      },
      "source": [
        "def get_technical_indicators(dataset):\n",
        "    # Create 7 and 21 days Moving Average\n",
        "    dataset['ma7'] = dataset['Price'].rolling(window=7).mean()\n",
        "    dataset['ma21'] = dataset['Price'].rolling(window=21).mean()\n",
        "    \n",
        "    # Create MACD\n",
        "    dataset['26ema'] = dataset['Price'].ewm(span=26,adjust=False).mean()\n",
        "    dataset['12ema'] = dataset['Price'].ewm(span=12,adjust=False).mean()\n",
        "    dataset['MACD'] = (dataset['12ema']-dataset['26ema'])\n",
        "\n",
        "    # Create Bollinger Bands\n",
        "    dataset['20sd'] = dataset['Price'].rolling(window=20).std()\n",
        "    # dataset['20sd'] = pd.stats.moments.rolling_std(dataset['Price'],20)\n",
        "    dataset['upper_band'] = dataset['ma21'] + (dataset['20sd']*2)\n",
        "    dataset['lower_band'] = dataset['ma21'] - (dataset['20sd']*2)\n",
        "    \n",
        "    # Create Exponential moving average\n",
        "    dataset['ema'] = dataset['Price'].ewm(com=0.5).mean()\n",
        "    \n",
        "    # Create Momentum\n",
        "    dataset['momentum'] = dataset['Price'].diff(periods=3)\n",
        "    \n",
        "    return dataset"
      ],
      "execution_count": 5,
      "outputs": []
    },
    {
      "cell_type": "code",
      "metadata": {
        "colab": {
          "base_uri": "https://localhost:8080/",
          "height": 206
        },
        "id": "X1UuR7o-7aSa",
        "outputId": "a61406d5-eea3-4006-a1bb-aa044ca52a03"
      },
      "source": [
        "train_df = train_df[::-1].reset_index(drop=True)\n",
        "train_df.head()"
      ],
      "execution_count": 6,
      "outputs": [
        {
          "output_type": "execute_result",
          "data": {
            "text/html": [
              "<div>\n",
              "<style scoped>\n",
              "    .dataframe tbody tr th:only-of-type {\n",
              "        vertical-align: middle;\n",
              "    }\n",
              "\n",
              "    .dataframe tbody tr th {\n",
              "        vertical-align: top;\n",
              "    }\n",
              "\n",
              "    .dataframe thead th {\n",
              "        text-align: right;\n",
              "    }\n",
              "</style>\n",
              "<table border=\"1\" class=\"dataframe\">\n",
              "  <thead>\n",
              "    <tr style=\"text-align: right;\">\n",
              "      <th></th>\n",
              "      <th>Date</th>\n",
              "      <th>Price</th>\n",
              "      <th>Open</th>\n",
              "      <th>High</th>\n",
              "      <th>Low</th>\n",
              "      <th>Vol.</th>\n",
              "      <th>Change</th>\n",
              "    </tr>\n",
              "  </thead>\n",
              "  <tbody>\n",
              "    <tr>\n",
              "      <th>0</th>\n",
              "      <td>5/3/2018</td>\n",
              "      <td>1026.46</td>\n",
              "      <td>1018.47</td>\n",
              "      <td>1027.38</td>\n",
              "      <td>1003.79</td>\n",
              "      <td>203.56K</td>\n",
              "      <td>0.00</td>\n",
              "    </tr>\n",
              "    <tr>\n",
              "      <th>1</th>\n",
              "      <td>5/4/2018</td>\n",
              "      <td>1026.80</td>\n",
              "      <td>1032.12</td>\n",
              "      <td>1037.02</td>\n",
              "      <td>1022.10</td>\n",
              "      <td>163.07K</td>\n",
              "      <td>0.00</td>\n",
              "    </tr>\n",
              "    <tr>\n",
              "      <th>2</th>\n",
              "      <td>5/7/2018</td>\n",
              "      <td>1062.26</td>\n",
              "      <td>1034.64</td>\n",
              "      <td>1062.26</td>\n",
              "      <td>1028.79</td>\n",
              "      <td>155.13K</td>\n",
              "      <td>0.03</td>\n",
              "    </tr>\n",
              "    <tr>\n",
              "      <th>3</th>\n",
              "      <td>5/8/2018</td>\n",
              "      <td>1060.45</td>\n",
              "      <td>1061.12</td>\n",
              "      <td>1072.28</td>\n",
              "      <td>1057.24</td>\n",
              "      <td>170.06K</td>\n",
              "      <td>0.00</td>\n",
              "    </tr>\n",
              "    <tr>\n",
              "      <th>4</th>\n",
              "      <td>5/9/2018</td>\n",
              "      <td>1056.97</td>\n",
              "      <td>1058.33</td>\n",
              "      <td>1069.80</td>\n",
              "      <td>1051.79</td>\n",
              "      <td>161.33K</td>\n",
              "      <td>0.00</td>\n",
              "    </tr>\n",
              "  </tbody>\n",
              "</table>\n",
              "</div>"
            ],
            "text/plain": [
              "       Date    Price     Open     High      Low     Vol.  Change\n",
              "0  5/3/2018  1026.46  1018.47  1027.38  1003.79  203.56K    0.00\n",
              "1  5/4/2018  1026.80  1032.12  1037.02  1022.10  163.07K    0.00\n",
              "2  5/7/2018  1062.26  1034.64  1062.26  1028.79  155.13K    0.03\n",
              "3  5/8/2018  1060.45  1061.12  1072.28  1057.24  170.06K    0.00\n",
              "4  5/9/2018  1056.97  1058.33  1069.80  1051.79  161.33K    0.00"
            ]
          },
          "metadata": {
            "tags": []
          },
          "execution_count": 6
        }
      ]
    },
    {
      "cell_type": "code",
      "metadata": {
        "colab": {
          "base_uri": "https://localhost:8080/",
          "height": 206
        },
        "id": "j1LiR2SPzW1G",
        "outputId": "74f8c662-88cb-4485-c3d2-f1f42b93e82a"
      },
      "source": [
        "train_df = get_technical_indicators(train_df)\n",
        "train_df.tail()"
      ],
      "execution_count": 7,
      "outputs": [
        {
          "output_type": "execute_result",
          "data": {
            "text/html": [
              "<div>\n",
              "<style scoped>\n",
              "    .dataframe tbody tr th:only-of-type {\n",
              "        vertical-align: middle;\n",
              "    }\n",
              "\n",
              "    .dataframe tbody tr th {\n",
              "        vertical-align: top;\n",
              "    }\n",
              "\n",
              "    .dataframe thead th {\n",
              "        text-align: right;\n",
              "    }\n",
              "</style>\n",
              "<table border=\"1\" class=\"dataframe\">\n",
              "  <thead>\n",
              "    <tr style=\"text-align: right;\">\n",
              "      <th></th>\n",
              "      <th>Date</th>\n",
              "      <th>Price</th>\n",
              "      <th>Open</th>\n",
              "      <th>High</th>\n",
              "      <th>Low</th>\n",
              "      <th>Vol.</th>\n",
              "      <th>Change</th>\n",
              "      <th>ma7</th>\n",
              "      <th>ma21</th>\n",
              "      <th>26ema</th>\n",
              "      <th>12ema</th>\n",
              "      <th>MACD</th>\n",
              "      <th>20sd</th>\n",
              "      <th>upper_band</th>\n",
              "      <th>lower_band</th>\n",
              "      <th>ema</th>\n",
              "      <th>momentum</th>\n",
              "    </tr>\n",
              "  </thead>\n",
              "  <tbody>\n",
              "    <tr>\n",
              "      <th>769</th>\n",
              "      <td>5/28/2021</td>\n",
              "      <td>1320.46</td>\n",
              "      <td>1307.79</td>\n",
              "      <td>1323.09</td>\n",
              "      <td>1300.06</td>\n",
              "      <td>768.85K</td>\n",
              "      <td>0.01</td>\n",
              "      <td>1301.348571</td>\n",
              "      <td>1269.348571</td>\n",
              "      <td>1268.961968</td>\n",
              "      <td>1289.948481</td>\n",
              "      <td>20.986513</td>\n",
              "      <td>25.425900</td>\n",
              "      <td>1320.200371</td>\n",
              "      <td>1218.496772</td>\n",
              "      <td>1315.783360</td>\n",
              "      <td>11.88</td>\n",
              "    </tr>\n",
              "    <tr>\n",
              "      <th>770</th>\n",
              "      <td>5/31/2021</td>\n",
              "      <td>1328.05</td>\n",
              "      <td>1326.65</td>\n",
              "      <td>1328.05</td>\n",
              "      <td>1307.56</td>\n",
              "      <td>737.18K</td>\n",
              "      <td>0.01</td>\n",
              "      <td>1308.467143</td>\n",
              "      <td>1274.039048</td>\n",
              "      <td>1273.338859</td>\n",
              "      <td>1295.810253</td>\n",
              "      <td>22.471394</td>\n",
              "      <td>27.227607</td>\n",
              "      <td>1328.494262</td>\n",
              "      <td>1219.583834</td>\n",
              "      <td>1323.961120</td>\n",
              "      <td>11.35</td>\n",
              "    </tr>\n",
              "    <tr>\n",
              "      <th>771</th>\n",
              "      <td>6/1/2021</td>\n",
              "      <td>1337.78</td>\n",
              "      <td>1329.47</td>\n",
              "      <td>1346.34</td>\n",
              "      <td>1328.84</td>\n",
              "      <td>629.42K</td>\n",
              "      <td>0.01</td>\n",
              "      <td>1316.160000</td>\n",
              "      <td>1278.724286</td>\n",
              "      <td>1278.112277</td>\n",
              "      <td>1302.267137</td>\n",
              "      <td>24.154860</td>\n",
              "      <td>29.331805</td>\n",
              "      <td>1337.387895</td>\n",
              "      <td>1220.060676</td>\n",
              "      <td>1333.173707</td>\n",
              "      <td>34.21</td>\n",
              "    </tr>\n",
              "    <tr>\n",
              "      <th>772</th>\n",
              "      <td>6/2/2021</td>\n",
              "      <td>1340.78</td>\n",
              "      <td>1337.78</td>\n",
              "      <td>1344.98</td>\n",
              "      <td>1330.82</td>\n",
              "      <td>805.24K</td>\n",
              "      <td>0.00</td>\n",
              "      <td>1322.274286</td>\n",
              "      <td>1283.418571</td>\n",
              "      <td>1282.754331</td>\n",
              "      <td>1308.192193</td>\n",
              "      <td>25.437862</td>\n",
              "      <td>31.653377</td>\n",
              "      <td>1346.725325</td>\n",
              "      <td>1220.111818</td>\n",
              "      <td>1338.244569</td>\n",
              "      <td>20.32</td>\n",
              "    </tr>\n",
              "    <tr>\n",
              "      <th>773</th>\n",
              "      <td>6/3/2021</td>\n",
              "      <td>1364.28</td>\n",
              "      <td>1345.21</td>\n",
              "      <td>1366.00</td>\n",
              "      <td>1345.21</td>\n",
              "      <td>898.88K</td>\n",
              "      <td>0.02</td>\n",
              "      <td>1330.231429</td>\n",
              "      <td>1288.554286</td>\n",
              "      <td>1288.793269</td>\n",
              "      <td>1316.821086</td>\n",
              "      <td>28.027817</td>\n",
              "      <td>35.200886</td>\n",
              "      <td>1358.956058</td>\n",
              "      <td>1218.152513</td>\n",
              "      <td>1355.601523</td>\n",
              "      <td>36.23</td>\n",
              "    </tr>\n",
              "  </tbody>\n",
              "</table>\n",
              "</div>"
            ],
            "text/plain": [
              "          Date    Price     Open  ...   lower_band          ema momentum\n",
              "769  5/28/2021  1320.46  1307.79  ...  1218.496772  1315.783360    11.88\n",
              "770  5/31/2021  1328.05  1326.65  ...  1219.583834  1323.961120    11.35\n",
              "771   6/1/2021  1337.78  1329.47  ...  1220.060676  1333.173707    34.21\n",
              "772   6/2/2021  1340.78  1337.78  ...  1220.111818  1338.244569    20.32\n",
              "773   6/3/2021  1364.28  1345.21  ...  1218.152513  1355.601523    36.23\n",
              "\n",
              "[5 rows x 17 columns]"
            ]
          },
          "metadata": {
            "tags": []
          },
          "execution_count": 7
        }
      ]
    },
    {
      "cell_type": "code",
      "metadata": {
        "colab": {
          "base_uri": "https://localhost:8080/"
        },
        "id": "zAYZXVDzRFVQ",
        "outputId": "197ab965-b045-485a-ea87-15840f2c0b28"
      },
      "source": [
        "train_df.columns"
      ],
      "execution_count": 8,
      "outputs": [
        {
          "output_type": "execute_result",
          "data": {
            "text/plain": [
              "Index(['Date', 'Price', 'Open', 'High', 'Low', 'Vol.', 'Change', 'ma7', 'ma21',\n",
              "       '26ema', '12ema', 'MACD', '20sd', 'upper_band', 'lower_band', 'ema',\n",
              "       'momentum'],\n",
              "      dtype='object')"
            ]
          },
          "metadata": {
            "tags": []
          },
          "execution_count": 8
        }
      ]
    },
    {
      "cell_type": "code",
      "metadata": {
        "colab": {
          "base_uri": "https://localhost:8080/"
        },
        "id": "xKxZBGf53uhF",
        "outputId": "a6ea6553-4e49-4227-92c6-68f58f174341"
      },
      "source": [
        "print(train_df.shape)"
      ],
      "execution_count": 9,
      "outputs": [
        {
          "output_type": "stream",
          "text": [
            "(774, 17)\n"
          ],
          "name": "stdout"
        }
      ]
    },
    {
      "cell_type": "code",
      "metadata": {
        "colab": {
          "base_uri": "https://localhost:8080/"
        },
        "id": "fBeGG01U3xM0",
        "outputId": "7f204634-5040-47ee-8958-65c055d209d0"
      },
      "source": [
        "train_df = train_df.dropna()\n",
        "train_df.shape"
      ],
      "execution_count": 10,
      "outputs": [
        {
          "output_type": "execute_result",
          "data": {
            "text/plain": [
              "(754, 17)"
            ]
          },
          "metadata": {
            "tags": []
          },
          "execution_count": 10
        }
      ]
    },
    {
      "cell_type": "code",
      "metadata": {
        "id": "nYd9cmO6p5fE"
      },
      "source": [
        "# Convert string in Volume column into float\n",
        "def string_to_float(x):\n",
        "  if 'K' in x:\n",
        "    return float(x.replace('K','')) * 10**3\n",
        "  if 'M' in x:\n",
        "    return float(x.replace('M','')) * 10**6\n",
        "\n",
        "train_df['Vol.'] = train_df['Vol.'].apply(string_to_float)"
      ],
      "execution_count": 11,
      "outputs": []
    },
    {
      "cell_type": "code",
      "metadata": {
        "id": "ip1YfaLs-Cv8"
      },
      "source": [
        "train_df['Date'] = pd.to_datetime(train_df['Date'])"
      ],
      "execution_count": 12,
      "outputs": []
    },
    {
      "cell_type": "code",
      "metadata": {
        "colab": {
          "base_uri": "https://localhost:8080/",
          "height": 206
        },
        "id": "bkLAKwM8zDq8",
        "outputId": "59197b49-d9d6-499b-eca4-d0fe7332e7b1"
      },
      "source": [
        "train_df.head()"
      ],
      "execution_count": 13,
      "outputs": [
        {
          "output_type": "execute_result",
          "data": {
            "text/html": [
              "<div>\n",
              "<style scoped>\n",
              "    .dataframe tbody tr th:only-of-type {\n",
              "        vertical-align: middle;\n",
              "    }\n",
              "\n",
              "    .dataframe tbody tr th {\n",
              "        vertical-align: top;\n",
              "    }\n",
              "\n",
              "    .dataframe thead th {\n",
              "        text-align: right;\n",
              "    }\n",
              "</style>\n",
              "<table border=\"1\" class=\"dataframe\">\n",
              "  <thead>\n",
              "    <tr style=\"text-align: right;\">\n",
              "      <th></th>\n",
              "      <th>Date</th>\n",
              "      <th>Price</th>\n",
              "      <th>Open</th>\n",
              "      <th>High</th>\n",
              "      <th>Low</th>\n",
              "      <th>Vol.</th>\n",
              "      <th>Change</th>\n",
              "      <th>ma7</th>\n",
              "      <th>ma21</th>\n",
              "      <th>26ema</th>\n",
              "      <th>12ema</th>\n",
              "      <th>MACD</th>\n",
              "      <th>20sd</th>\n",
              "      <th>upper_band</th>\n",
              "      <th>lower_band</th>\n",
              "      <th>ema</th>\n",
              "      <th>momentum</th>\n",
              "    </tr>\n",
              "  </thead>\n",
              "  <tbody>\n",
              "    <tr>\n",
              "      <th>20</th>\n",
              "      <td>2018-05-31</td>\n",
              "      <td>971.25</td>\n",
              "      <td>947.96</td>\n",
              "      <td>975.51</td>\n",
              "      <td>945.29</td>\n",
              "      <td>182040.0</td>\n",
              "      <td>0.02</td>\n",
              "      <td>963.205714</td>\n",
              "      <td>1015.060476</td>\n",
              "      <td>1003.900268</td>\n",
              "      <td>982.834062</td>\n",
              "      <td>-21.066205</td>\n",
              "      <td>44.759233</td>\n",
              "      <td>1104.578943</td>\n",
              "      <td>925.542009</td>\n",
              "      <td>963.814900</td>\n",
              "      <td>39.50</td>\n",
              "    </tr>\n",
              "    <tr>\n",
              "      <th>21</th>\n",
              "      <td>2018-06-01</td>\n",
              "      <td>992.87</td>\n",
              "      <td>973.67</td>\n",
              "      <td>995.06</td>\n",
              "      <td>973.56</td>\n",
              "      <td>204090.0</td>\n",
              "      <td>0.02</td>\n",
              "      <td>963.767143</td>\n",
              "      <td>1013.460952</td>\n",
              "      <td>1003.083211</td>\n",
              "      <td>984.378053</td>\n",
              "      <td>-18.705158</td>\n",
              "      <td>44.910877</td>\n",
              "      <td>1103.282706</td>\n",
              "      <td>923.639199</td>\n",
              "      <td>983.184967</td>\n",
              "      <td>40.69</td>\n",
              "    </tr>\n",
              "    <tr>\n",
              "      <th>22</th>\n",
              "      <td>2018-06-04</td>\n",
              "      <td>1013.78</td>\n",
              "      <td>994.48</td>\n",
              "      <td>1013.78</td>\n",
              "      <td>992.01</td>\n",
              "      <td>166090.0</td>\n",
              "      <td>0.02</td>\n",
              "      <td>967.747143</td>\n",
              "      <td>1012.840952</td>\n",
              "      <td>1003.875566</td>\n",
              "      <td>988.901429</td>\n",
              "      <td>-14.974136</td>\n",
              "      <td>43.382826</td>\n",
              "      <td>1099.606604</td>\n",
              "      <td>926.075301</td>\n",
              "      <td>1003.581656</td>\n",
              "      <td>65.28</td>\n",
              "    </tr>\n",
              "    <tr>\n",
              "      <th>23</th>\n",
              "      <td>2018-06-05</td>\n",
              "      <td>1022.74</td>\n",
              "      <td>1013.59</td>\n",
              "      <td>1025.26</td>\n",
              "      <td>1011.59</td>\n",
              "      <td>212460.0</td>\n",
              "      <td>0.01</td>\n",
              "      <td>976.152857</td>\n",
              "      <td>1010.959048</td>\n",
              "      <td>1005.272931</td>\n",
              "      <td>994.107363</td>\n",
              "      <td>-11.165568</td>\n",
              "      <td>41.885326</td>\n",
              "      <td>1094.729700</td>\n",
              "      <td>927.188395</td>\n",
              "      <td>1016.353885</td>\n",
              "      <td>51.49</td>\n",
              "    </tr>\n",
              "    <tr>\n",
              "      <th>24</th>\n",
              "      <td>2018-06-06</td>\n",
              "      <td>1034.50</td>\n",
              "      <td>1020.97</td>\n",
              "      <td>1034.50</td>\n",
              "      <td>1012.98</td>\n",
              "      <td>162080.0</td>\n",
              "      <td>0.01</td>\n",
              "      <td>990.831429</td>\n",
              "      <td>1009.723333</td>\n",
              "      <td>1007.437899</td>\n",
              "      <td>1000.321615</td>\n",
              "      <td>-7.116284</td>\n",
              "      <td>40.803733</td>\n",
              "      <td>1091.330799</td>\n",
              "      <td>928.115867</td>\n",
              "      <td>1028.451295</td>\n",
              "      <td>41.63</td>\n",
              "    </tr>\n",
              "  </tbody>\n",
              "</table>\n",
              "</div>"
            ],
            "text/plain": [
              "         Date    Price     Open  ...  lower_band          ema  momentum\n",
              "20 2018-05-31   971.25   947.96  ...  925.542009   963.814900     39.50\n",
              "21 2018-06-01   992.87   973.67  ...  923.639199   983.184967     40.69\n",
              "22 2018-06-04  1013.78   994.48  ...  926.075301  1003.581656     65.28\n",
              "23 2018-06-05  1022.74  1013.59  ...  927.188395  1016.353885     51.49\n",
              "24 2018-06-06  1034.50  1020.97  ...  928.115867  1028.451295     41.63\n",
              "\n",
              "[5 rows x 17 columns]"
            ]
          },
          "metadata": {
            "tags": []
          },
          "execution_count": 13
        }
      ]
    },
    {
      "cell_type": "code",
      "metadata": {
        "colab": {
          "base_uri": "https://localhost:8080/",
          "height": 206
        },
        "id": "RrRVEZXMkWjl",
        "outputId": "de7c12fe-7ca1-4f88-cf04-964af3139019"
      },
      "source": [
        "train_df.tail()"
      ],
      "execution_count": 14,
      "outputs": [
        {
          "output_type": "execute_result",
          "data": {
            "text/html": [
              "<div>\n",
              "<style scoped>\n",
              "    .dataframe tbody tr th:only-of-type {\n",
              "        vertical-align: middle;\n",
              "    }\n",
              "\n",
              "    .dataframe tbody tr th {\n",
              "        vertical-align: top;\n",
              "    }\n",
              "\n",
              "    .dataframe thead th {\n",
              "        text-align: right;\n",
              "    }\n",
              "</style>\n",
              "<table border=\"1\" class=\"dataframe\">\n",
              "  <thead>\n",
              "    <tr style=\"text-align: right;\">\n",
              "      <th></th>\n",
              "      <th>Date</th>\n",
              "      <th>Price</th>\n",
              "      <th>Open</th>\n",
              "      <th>High</th>\n",
              "      <th>Low</th>\n",
              "      <th>Vol.</th>\n",
              "      <th>Change</th>\n",
              "      <th>ma7</th>\n",
              "      <th>ma21</th>\n",
              "      <th>26ema</th>\n",
              "      <th>12ema</th>\n",
              "      <th>MACD</th>\n",
              "      <th>20sd</th>\n",
              "      <th>upper_band</th>\n",
              "      <th>lower_band</th>\n",
              "      <th>ema</th>\n",
              "      <th>momentum</th>\n",
              "    </tr>\n",
              "  </thead>\n",
              "  <tbody>\n",
              "    <tr>\n",
              "      <th>769</th>\n",
              "      <td>2021-05-28</td>\n",
              "      <td>1320.46</td>\n",
              "      <td>1307.79</td>\n",
              "      <td>1323.09</td>\n",
              "      <td>1300.06</td>\n",
              "      <td>768850.0</td>\n",
              "      <td>0.01</td>\n",
              "      <td>1301.348571</td>\n",
              "      <td>1269.348571</td>\n",
              "      <td>1268.961968</td>\n",
              "      <td>1289.948481</td>\n",
              "      <td>20.986513</td>\n",
              "      <td>25.425900</td>\n",
              "      <td>1320.200371</td>\n",
              "      <td>1218.496772</td>\n",
              "      <td>1315.783360</td>\n",
              "      <td>11.88</td>\n",
              "    </tr>\n",
              "    <tr>\n",
              "      <th>770</th>\n",
              "      <td>2021-05-31</td>\n",
              "      <td>1328.05</td>\n",
              "      <td>1326.65</td>\n",
              "      <td>1328.05</td>\n",
              "      <td>1307.56</td>\n",
              "      <td>737180.0</td>\n",
              "      <td>0.01</td>\n",
              "      <td>1308.467143</td>\n",
              "      <td>1274.039048</td>\n",
              "      <td>1273.338859</td>\n",
              "      <td>1295.810253</td>\n",
              "      <td>22.471394</td>\n",
              "      <td>27.227607</td>\n",
              "      <td>1328.494262</td>\n",
              "      <td>1219.583834</td>\n",
              "      <td>1323.961120</td>\n",
              "      <td>11.35</td>\n",
              "    </tr>\n",
              "    <tr>\n",
              "      <th>771</th>\n",
              "      <td>2021-06-01</td>\n",
              "      <td>1337.78</td>\n",
              "      <td>1329.47</td>\n",
              "      <td>1346.34</td>\n",
              "      <td>1328.84</td>\n",
              "      <td>629420.0</td>\n",
              "      <td>0.01</td>\n",
              "      <td>1316.160000</td>\n",
              "      <td>1278.724286</td>\n",
              "      <td>1278.112277</td>\n",
              "      <td>1302.267137</td>\n",
              "      <td>24.154860</td>\n",
              "      <td>29.331805</td>\n",
              "      <td>1337.387895</td>\n",
              "      <td>1220.060676</td>\n",
              "      <td>1333.173707</td>\n",
              "      <td>34.21</td>\n",
              "    </tr>\n",
              "    <tr>\n",
              "      <th>772</th>\n",
              "      <td>2021-06-02</td>\n",
              "      <td>1340.78</td>\n",
              "      <td>1337.78</td>\n",
              "      <td>1344.98</td>\n",
              "      <td>1330.82</td>\n",
              "      <td>805240.0</td>\n",
              "      <td>0.00</td>\n",
              "      <td>1322.274286</td>\n",
              "      <td>1283.418571</td>\n",
              "      <td>1282.754331</td>\n",
              "      <td>1308.192193</td>\n",
              "      <td>25.437862</td>\n",
              "      <td>31.653377</td>\n",
              "      <td>1346.725325</td>\n",
              "      <td>1220.111818</td>\n",
              "      <td>1338.244569</td>\n",
              "      <td>20.32</td>\n",
              "    </tr>\n",
              "    <tr>\n",
              "      <th>773</th>\n",
              "      <td>2021-06-03</td>\n",
              "      <td>1364.28</td>\n",
              "      <td>1345.21</td>\n",
              "      <td>1366.00</td>\n",
              "      <td>1345.21</td>\n",
              "      <td>898880.0</td>\n",
              "      <td>0.02</td>\n",
              "      <td>1330.231429</td>\n",
              "      <td>1288.554286</td>\n",
              "      <td>1288.793269</td>\n",
              "      <td>1316.821086</td>\n",
              "      <td>28.027817</td>\n",
              "      <td>35.200886</td>\n",
              "      <td>1358.956058</td>\n",
              "      <td>1218.152513</td>\n",
              "      <td>1355.601523</td>\n",
              "      <td>36.23</td>\n",
              "    </tr>\n",
              "  </tbody>\n",
              "</table>\n",
              "</div>"
            ],
            "text/plain": [
              "          Date    Price     Open  ...   lower_band          ema  momentum\n",
              "769 2021-05-28  1320.46  1307.79  ...  1218.496772  1315.783360     11.88\n",
              "770 2021-05-31  1328.05  1326.65  ...  1219.583834  1323.961120     11.35\n",
              "771 2021-06-01  1337.78  1329.47  ...  1220.060676  1333.173707     34.21\n",
              "772 2021-06-02  1340.78  1337.78  ...  1220.111818  1338.244569     20.32\n",
              "773 2021-06-03  1364.28  1345.21  ...  1218.152513  1355.601523     36.23\n",
              "\n",
              "[5 rows x 17 columns]"
            ]
          },
          "metadata": {
            "tags": []
          },
          "execution_count": 14
        }
      ]
    },
    {
      "cell_type": "code",
      "metadata": {
        "id": "-BQE_ajk2Z5i"
      },
      "source": [
        "train_df = train_df.drop(columns='Change')"
      ],
      "execution_count": 15,
      "outputs": []
    },
    {
      "cell_type": "code",
      "metadata": {
        "colab": {
          "base_uri": "https://localhost:8080/",
          "height": 536
        },
        "id": "2repAFqK20FV",
        "outputId": "87e9d7e3-fcfa-4155-dd49-7be4b7a525fb"
      },
      "source": [
        "plt.figure(figsize=(36,10))\n",
        "plt.plot(train_df['Date'], train_df['Price'])\n",
        "plt.xlabel('Date')\n",
        "plt.ylabel('Price')\n",
        "plt.title('VnIndex from 05-2018 to 06-2021')"
      ],
      "execution_count": 16,
      "outputs": [
        {
          "output_type": "execute_result",
          "data": {
            "text/plain": [
              "Text(0.5, 1.0, 'VnIndex from 05-2018 to 06-2021')"
            ]
          },
          "metadata": {
            "tags": []
          },
          "execution_count": 16
        },
        {
          "output_type": "display_data",
          "data": {
            "image/png": "[encoded data removed]",
            "text/plain": [
              "<Figure size 2592x720 with 1 Axes>"
            ]
          },
          "metadata": {
            "tags": [],
            "needs_background": "light"
          }
        }
      ]
    },
    {
      "cell_type": "markdown",
      "metadata": {
        "id": "DNlpS_I6B0Rx"
      },
      "source": [
        "## Normalization\n"
      ]
    },
    {
      "cell_type": "code",
      "metadata": {
        "id": "O8oKLeeAAC8a"
      },
      "source": [
        "from sklearn.preprocessing import MinMaxScaler"
      ],
      "execution_count": 17,
      "outputs": []
    },
    {
      "cell_type": "code",
      "metadata": {
        "id": "aNRpuJFoty7g"
      },
      "source": [
        "scaler = MinMaxScaler(feature_range=(-1,1))"
      ],
      "execution_count": 18,
      "outputs": []
    },
    {
      "cell_type": "code",
      "metadata": {
        "colab": {
          "base_uri": "https://localhost:8080/"
        },
        "id": "bzh4GFHX8Ynv",
        "outputId": "a240968b-b5d6-4562-e073-4092022be140"
      },
      "source": [
        "test = train_df.drop(columns='Date')\n",
        "scaler.fit_transform(test)"
      ],
      "execution_count": 19,
      "outputs": [
        {
          "output_type": "execute_result",
          "data": {
            "text/plain": [
              "array([[-0.11486803, -0.15747148, -0.11498487, ...,  0.04739594,\n",
              "        -0.136243  ,  0.55681282],\n",
              "       [-0.05354078, -0.08255999, -0.05916281, ...,  0.04124247,\n",
              "        -0.08006675,  0.56701384],\n",
              "       [ 0.00577248, -0.02192567, -0.0057107 , ...,  0.04912054,\n",
              "        -0.02091314,  0.77780635],\n",
              "       ...,\n",
              "       [ 0.92483016,  0.9541382 ,  0.94386386, ...,  0.99983461,\n",
              "         0.9349558 ,  0.51146543],\n",
              "       [ 0.93333995,  0.97835113,  0.93998058, ...,  1.        ,\n",
              "         0.9496621 ,  0.39239638],\n",
              "       [ 1.        ,  1.        ,  1.        , ...,  0.99366384,\n",
              "         1.        ,  0.52878145]])"
            ]
          },
          "metadata": {
            "tags": []
          },
          "execution_count": 19
        }
      ]
    },
    {
      "cell_type": "code",
      "metadata": {
        "id": "hb3cgyKO9ARr"
      },
      "source": [
        "new_train_df = pd.DataFrame(scaler.fit_transform(train_df.drop(columns='Date')), columns=train_df.columns[1:])\n",
        "new_train_df.insert(0, 'Date', train_df['Date'])"
      ],
      "execution_count": 20,
      "outputs": []
    },
    {
      "cell_type": "code",
      "metadata": {
        "colab": {
          "base_uri": "https://localhost:8080/",
          "height": 206
        },
        "id": "U-_n3xMC9blY",
        "outputId": "ae5ec11b-7287-45f6-8665-6e4f4f0bd41d"
      },
      "source": [
        "train_df.head()"
      ],
      "execution_count": 21,
      "outputs": [
        {
          "output_type": "execute_result",
          "data": {
            "text/html": [
              "<div>\n",
              "<style scoped>\n",
              "    .dataframe tbody tr th:only-of-type {\n",
              "        vertical-align: middle;\n",
              "    }\n",
              "\n",
              "    .dataframe tbody tr th {\n",
              "        vertical-align: top;\n",
              "    }\n",
              "\n",
              "    .dataframe thead th {\n",
              "        text-align: right;\n",
              "    }\n",
              "</style>\n",
              "<table border=\"1\" class=\"dataframe\">\n",
              "  <thead>\n",
              "    <tr style=\"text-align: right;\">\n",
              "      <th></th>\n",
              "      <th>Date</th>\n",
              "      <th>Price</th>\n",
              "      <th>Open</th>\n",
              "      <th>High</th>\n",
              "      <th>Low</th>\n",
              "      <th>Vol.</th>\n",
              "      <th>ma7</th>\n",
              "      <th>ma21</th>\n",
              "      <th>26ema</th>\n",
              "      <th>12ema</th>\n",
              "      <th>MACD</th>\n",
              "      <th>20sd</th>\n",
              "      <th>upper_band</th>\n",
              "      <th>lower_band</th>\n",
              "      <th>ema</th>\n",
              "      <th>momentum</th>\n",
              "    </tr>\n",
              "  </thead>\n",
              "  <tbody>\n",
              "    <tr>\n",
              "      <th>20</th>\n",
              "      <td>2018-05-31</td>\n",
              "      <td>971.25</td>\n",
              "      <td>947.96</td>\n",
              "      <td>975.51</td>\n",
              "      <td>945.29</td>\n",
              "      <td>182040.0</td>\n",
              "      <td>963.205714</td>\n",
              "      <td>1015.060476</td>\n",
              "      <td>1003.900268</td>\n",
              "      <td>982.834062</td>\n",
              "      <td>-21.066205</td>\n",
              "      <td>44.759233</td>\n",
              "      <td>1104.578943</td>\n",
              "      <td>925.542009</td>\n",
              "      <td>963.814900</td>\n",
              "      <td>39.50</td>\n",
              "    </tr>\n",
              "    <tr>\n",
              "      <th>21</th>\n",
              "      <td>2018-06-01</td>\n",
              "      <td>992.87</td>\n",
              "      <td>973.67</td>\n",
              "      <td>995.06</td>\n",
              "      <td>973.56</td>\n",
              "      <td>204090.0</td>\n",
              "      <td>963.767143</td>\n",
              "      <td>1013.460952</td>\n",
              "      <td>1003.083211</td>\n",
              "      <td>984.378053</td>\n",
              "      <td>-18.705158</td>\n",
              "      <td>44.910877</td>\n",
              "      <td>1103.282706</td>\n",
              "      <td>923.639199</td>\n",
              "      <td>983.184967</td>\n",
              "      <td>40.69</td>\n",
              "    </tr>\n",
              "    <tr>\n",
              "      <th>22</th>\n",
              "      <td>2018-06-04</td>\n",
              "      <td>1013.78</td>\n",
              "      <td>994.48</td>\n",
              "      <td>1013.78</td>\n",
              "      <td>992.01</td>\n",
              "      <td>166090.0</td>\n",
              "      <td>967.747143</td>\n",
              "      <td>1012.840952</td>\n",
              "      <td>1003.875566</td>\n",
              "      <td>988.901429</td>\n",
              "      <td>-14.974136</td>\n",
              "      <td>43.382826</td>\n",
              "      <td>1099.606604</td>\n",
              "      <td>926.075301</td>\n",
              "      <td>1003.581656</td>\n",
              "      <td>65.28</td>\n",
              "    </tr>\n",
              "    <tr>\n",
              "      <th>23</th>\n",
              "      <td>2018-06-05</td>\n",
              "      <td>1022.74</td>\n",
              "      <td>1013.59</td>\n",
              "      <td>1025.26</td>\n",
              "      <td>1011.59</td>\n",
              "      <td>212460.0</td>\n",
              "      <td>976.152857</td>\n",
              "      <td>1010.959048</td>\n",
              "      <td>1005.272931</td>\n",
              "      <td>994.107363</td>\n",
              "      <td>-11.165568</td>\n",
              "      <td>41.885326</td>\n",
              "      <td>1094.729700</td>\n",
              "      <td>927.188395</td>\n",
              "      <td>1016.353885</td>\n",
              "      <td>51.49</td>\n",
              "    </tr>\n",
              "    <tr>\n",
              "      <th>24</th>\n",
              "      <td>2018-06-06</td>\n",
              "      <td>1034.50</td>\n",
              "      <td>1020.97</td>\n",
              "      <td>1034.50</td>\n",
              "      <td>1012.98</td>\n",
              "      <td>162080.0</td>\n",
              "      <td>990.831429</td>\n",
              "      <td>1009.723333</td>\n",
              "      <td>1007.437899</td>\n",
              "      <td>1000.321615</td>\n",
              "      <td>-7.116284</td>\n",
              "      <td>40.803733</td>\n",
              "      <td>1091.330799</td>\n",
              "      <td>928.115867</td>\n",
              "      <td>1028.451295</td>\n",
              "      <td>41.63</td>\n",
              "    </tr>\n",
              "  </tbody>\n",
              "</table>\n",
              "</div>"
            ],
            "text/plain": [
              "         Date    Price     Open  ...  lower_band          ema  momentum\n",
              "20 2018-05-31   971.25   947.96  ...  925.542009   963.814900     39.50\n",
              "21 2018-06-01   992.87   973.67  ...  923.639199   983.184967     40.69\n",
              "22 2018-06-04  1013.78   994.48  ...  926.075301  1003.581656     65.28\n",
              "23 2018-06-05  1022.74  1013.59  ...  927.188395  1016.353885     51.49\n",
              "24 2018-06-06  1034.50  1020.97  ...  928.115867  1028.451295     41.63\n",
              "\n",
              "[5 rows x 16 columns]"
            ]
          },
          "metadata": {
            "tags": []
          },
          "execution_count": 21
        }
      ]
    },
    {
      "cell_type": "code",
      "metadata": {
        "colab": {
          "base_uri": "https://localhost:8080/",
          "height": 206
        },
        "id": "8K9OU55r_6rL",
        "outputId": "7b6821bc-044b-465d-eab2-67d15b975c07"
      },
      "source": [
        "new_train_df.head()"
      ],
      "execution_count": 22,
      "outputs": [
        {
          "output_type": "execute_result",
          "data": {
            "text/html": [
              "<div>\n",
              "<style scoped>\n",
              "    .dataframe tbody tr th:only-of-type {\n",
              "        vertical-align: middle;\n",
              "    }\n",
              "\n",
              "    .dataframe tbody tr th {\n",
              "        vertical-align: top;\n",
              "    }\n",
              "\n",
              "    .dataframe thead th {\n",
              "        text-align: right;\n",
              "    }\n",
              "</style>\n",
              "<table border=\"1\" class=\"dataframe\">\n",
              "  <thead>\n",
              "    <tr style=\"text-align: right;\">\n",
              "      <th></th>\n",
              "      <th>Date</th>\n",
              "      <th>Price</th>\n",
              "      <th>Open</th>\n",
              "      <th>High</th>\n",
              "      <th>Low</th>\n",
              "      <th>Vol.</th>\n",
              "      <th>ma7</th>\n",
              "      <th>ma21</th>\n",
              "      <th>26ema</th>\n",
              "      <th>12ema</th>\n",
              "      <th>MACD</th>\n",
              "      <th>20sd</th>\n",
              "      <th>upper_band</th>\n",
              "      <th>lower_band</th>\n",
              "      <th>ema</th>\n",
              "      <th>momentum</th>\n",
              "    </tr>\n",
              "  </thead>\n",
              "  <tbody>\n",
              "    <tr>\n",
              "      <th>0</th>\n",
              "      <td>NaT</td>\n",
              "      <td>-0.114868</td>\n",
              "      <td>-0.157471</td>\n",
              "      <td>-0.114985</td>\n",
              "      <td>-0.149014</td>\n",
              "      <td>-0.837360</td>\n",
              "      <td>-0.121788</td>\n",
              "      <td>0.042151</td>\n",
              "      <td>-0.065471</td>\n",
              "      <td>-0.088527</td>\n",
              "      <td>-0.205703</td>\n",
              "      <td>0.021422</td>\n",
              "      <td>0.103955</td>\n",
              "      <td>0.047396</td>\n",
              "      <td>-0.136243</td>\n",
              "      <td>0.556813</td>\n",
              "    </tr>\n",
              "    <tr>\n",
              "      <th>1</th>\n",
              "      <td>NaT</td>\n",
              "      <td>-0.053541</td>\n",
              "      <td>-0.082560</td>\n",
              "      <td>-0.059163</td>\n",
              "      <td>-0.067791</td>\n",
              "      <td>-0.789582</td>\n",
              "      <td>-0.120072</td>\n",
              "      <td>0.036549</td>\n",
              "      <td>-0.068527</td>\n",
              "      <td>-0.083495</td>\n",
              "      <td>-0.160305</td>\n",
              "      <td>0.025220</td>\n",
              "      <td>0.099389</td>\n",
              "      <td>0.041242</td>\n",
              "      <td>-0.080067</td>\n",
              "      <td>0.567014</td>\n",
              "    </tr>\n",
              "    <tr>\n",
              "      <th>2</th>\n",
              "      <td>NaT</td>\n",
              "      <td>0.005772</td>\n",
              "      <td>-0.021926</td>\n",
              "      <td>-0.005711</td>\n",
              "      <td>-0.014782</td>\n",
              "      <td>-0.871920</td>\n",
              "      <td>-0.107907</td>\n",
              "      <td>0.034378</td>\n",
              "      <td>-0.065564</td>\n",
              "      <td>-0.068752</td>\n",
              "      <td>-0.088566</td>\n",
              "      <td>-0.013045</td>\n",
              "      <td>0.086440</td>\n",
              "      <td>0.049121</td>\n",
              "      <td>-0.020913</td>\n",
              "      <td>0.777806</td>\n",
              "    </tr>\n",
              "    <tr>\n",
              "      <th>3</th>\n",
              "      <td>NaT</td>\n",
              "      <td>0.031188</td>\n",
              "      <td>0.033755</td>\n",
              "      <td>0.027069</td>\n",
              "      <td>0.041473</td>\n",
              "      <td>-0.771446</td>\n",
              "      <td>-0.082216</td>\n",
              "      <td>0.027787</td>\n",
              "      <td>-0.060338</td>\n",
              "      <td>-0.051785</td>\n",
              "      <td>-0.015335</td>\n",
              "      <td>-0.050545</td>\n",
              "      <td>0.069261</td>\n",
              "      <td>0.052720</td>\n",
              "      <td>0.016128</td>\n",
              "      <td>0.659595</td>\n",
              "    </tr>\n",
              "    <tr>\n",
              "      <th>4</th>\n",
              "      <td>NaT</td>\n",
              "      <td>0.064547</td>\n",
              "      <td>0.055259</td>\n",
              "      <td>0.053452</td>\n",
              "      <td>0.045467</td>\n",
              "      <td>-0.880609</td>\n",
              "      <td>-0.037352</td>\n",
              "      <td>0.023459</td>\n",
              "      <td>-0.052241</td>\n",
              "      <td>-0.031532</td>\n",
              "      <td>0.062524</td>\n",
              "      <td>-0.077630</td>\n",
              "      <td>0.057288</td>\n",
              "      <td>0.055719</td>\n",
              "      <td>0.051213</td>\n",
              "      <td>0.575072</td>\n",
              "    </tr>\n",
              "  </tbody>\n",
              "</table>\n",
              "</div>"
            ],
            "text/plain": [
              "  Date     Price      Open  ...  lower_band       ema  momentum\n",
              "0  NaT -0.114868 -0.157471  ...    0.047396 -0.136243  0.556813\n",
              "1  NaT -0.053541 -0.082560  ...    0.041242 -0.080067  0.567014\n",
              "2  NaT  0.005772 -0.021926  ...    0.049121 -0.020913  0.777806\n",
              "3  NaT  0.031188  0.033755  ...    0.052720  0.016128  0.659595\n",
              "4  NaT  0.064547  0.055259  ...    0.055719  0.051213  0.575072\n",
              "\n",
              "[5 rows x 16 columns]"
            ]
          },
          "metadata": {
            "tags": []
          },
          "execution_count": 22
        }
      ]
    },
    {
      "cell_type": "code",
      "metadata": {
        "colab": {
          "base_uri": "https://localhost:8080/",
          "height": 535
        },
        "id": "1Dxm-DfRBUig",
        "outputId": "01552a05-6e8e-430a-b58c-18d5398482a1"
      },
      "source": [
        "plt.figure(figsize=(36,10))\n",
        "plt.plot(new_train_df['Date'], new_train_df['Price'])\n",
        "plt.xlabel('Date')\n",
        "plt.ylabel('Price')\n",
        "plt.title('VnIndex after using scaler')"
      ],
      "execution_count": 23,
      "outputs": [
        {
          "output_type": "execute_result",
          "data": {
            "text/plain": [
              "Text(0.5, 1.0, 'VnIndex after using scaler')"
            ]
          },
          "metadata": {
            "tags": []
          },
          "execution_count": 23
        },
        {
          "output_type": "display_data",
          "data": {
            "image/png": "[encoded data removed]",
            "text/plain": [
              "<Figure size 2592x720 with 1 Axes>"
            ]
          },
          "metadata": {
            "tags": [],
            "needs_background": "light"
          }
        }
      ]
    },
    {
      "cell_type": "code",
      "metadata": {
        "id": "DH018-vSYYhf"
      },
      "source": [
        "train_np = new_train_df.drop(columns='Date').to_numpy()"
      ],
      "execution_count": 24,
      "outputs": []
    },
    {
      "cell_type": "code",
      "metadata": {
        "colab": {
          "base_uri": "https://localhost:8080/"
        },
        "id": "rupbAcAUX4sz",
        "outputId": "885f0c0d-3bd1-4eaf-ca71-13fec6371965"
      },
      "source": [
        "print(train_np)\n",
        "print(train_np.shape)"
      ],
      "execution_count": 25,
      "outputs": [
        {
          "output_type": "stream",
          "text": [
            "[[-0.11486803 -0.15747148 -0.11498487 ...  0.04739594 -0.136243\n",
            "   0.55681282]\n",
            " [-0.05354078 -0.08255999 -0.05916281 ...  0.04124247 -0.08006675\n",
            "   0.56701384]\n",
            " [ 0.00577248 -0.02192567 -0.0057107  ...  0.04912054 -0.02091314\n",
            "   0.77780635]\n",
            " ...\n",
            " [ 0.92483016  0.9541382   0.94386386 ...  0.99983461  0.9349558\n",
            "   0.51146543]\n",
            " [ 0.93333995  0.97835113  0.93998058 ...  1.          0.9496621\n",
            "   0.39239638]\n",
            " [ 1.          1.          1.         ...  0.99366384  1.\n",
            "   0.52878145]]\n",
            "(754, 15)\n"
          ],
          "name": "stdout"
        }
      ]
    },
    {
      "cell_type": "markdown",
      "metadata": {
        "id": "5lKULtQbEqRn"
      },
      "source": [
        "## Change data to predict a day block"
      ]
    },
    {
      "cell_type": "code",
      "metadata": {
        "colab": {
          "base_uri": "https://localhost:8080/"
        },
        "id": "YAqHLfcW7c1s",
        "outputId": "95cb050c-fb7e-4999-9051-67d92a133b60"
      },
      "source": [
        "# Set data as a day block to predict\n",
        "prediction_days = 20\n",
        "\n",
        "x_train = []\n",
        "y_train = []\n",
        "\n",
        "for x in range(prediction_days, len(train_np)):\n",
        "  x_train.append(train_np[x-prediction_days:x])\n",
        "  y_train.append(train_np[x,0])\n",
        "\n",
        "x_train = np.array(x_train)\n",
        "y_train = np.array(y_train)\n",
        "\n",
        "print(x_train.shape)\n",
        "print(y_train.shape)"
      ],
      "execution_count": 26,
      "outputs": [
        {
          "output_type": "stream",
          "text": [
            "(734, 20, 15)\n",
            "(734,)\n"
          ],
          "name": "stdout"
        }
      ]
    },
    {
      "cell_type": "code",
      "metadata": {
        "id": "SEQaOEuBZzr8"
      },
      "source": [
        "x_train, x_test, y_train, y_test= train_test_split(x_train, y_train, test_size=0.2, shuffle=False)"
      ],
      "execution_count": 27,
      "outputs": []
    },
    {
      "cell_type": "code",
      "metadata": {
        "colab": {
          "base_uri": "https://localhost:8080/"
        },
        "id": "rmwPQVyvioZ4",
        "outputId": "06e5cd56-9a46-432e-8072-ea889c9e374d"
      },
      "source": [
        "print(y_train.shape)\n",
        "print(y_test.shape)\n",
        "print(train_np[-10:])\n",
        "print(y_test[-5:])"
      ],
      "execution_count": 28,
      "outputs": [
        {
          "output_type": "stream",
          "text": [
            "(587,)\n",
            "(147,)\n",
            "[[ 0.77207937  0.78913477  0.78022386  0.77948887  0.28263743  0.80471607\n",
            "   0.8715068   0.85368403  0.82387442  0.45145194 -0.64162338  0.7515662\n",
            "   0.98444868  0.78079178  0.48609147]\n",
            " [ 0.81193357  0.83184977  0.81106162  0.83379064  0.31856298  0.82043048\n",
            "   0.87646001  0.86706725  0.84152348  0.48676716 -0.59310279  0.77019849\n",
            "   0.97649034  0.81552292  0.52243796]\n",
            " [ 0.8420015   0.86591104  0.83604591  0.86214822  0.23958311  0.8388651\n",
            "   0.88992873  0.88239563  0.86177229  0.52741916 -0.5115885   0.80667772\n",
            "   0.96787328  0.84759442  0.47846213]\n",
            " [ 0.86503468  0.89169738  0.86094455  0.88355289  0.31327599  0.8641898\n",
            "   0.90129776  0.89883805  0.88297738  0.56798518 -0.47768029  0.82765195\n",
            "   0.96961321  0.87398444  0.49912134]\n",
            " [ 0.82779015  0.9219417   0.86771172  0.870078    0.35646032  0.88641003\n",
            "   0.91594057  0.91042512  0.89433658  0.5754274  -0.49134575  0.83853483\n",
            "   0.98666345  0.85739506  0.26612661]\n",
            " [ 0.87570029  0.89096895  0.87747701  0.87027912  0.43414011  0.91172162\n",
            "   0.93273645  0.92583292  0.91241709  0.60287907 -0.46271384  0.86348287\n",
            "   0.99477713  0.88452105  0.32004629]\n",
            " [ 0.89723006  0.94592153  0.89163954  0.89182744  0.36551754  0.93347902\n",
            "   0.94916375  0.94220206  0.93152172  0.63143008 -0.41759636  0.89269815\n",
            "   0.99829256  0.90823784  0.31550298]\n",
            " [ 0.92483016  0.9541382   0.94386386  0.9529672   0.13202314  0.95699169\n",
            "   0.96557271  0.96005416  0.95256593  0.66379945 -0.36490406  0.92402602\n",
            "   0.99983461  0.9349558   0.51146543]\n",
            " [ 0.93333995  0.97835113  0.93998058  0.95865596  0.51298997  0.97567956\n",
            "   0.98201335  0.97741498  0.9718768   0.68846878 -0.30676838  0.95691717\n",
            "   1.          0.9496621   0.39239638]\n",
            " [ 1.          1.          1.          1.          0.71588915  1.\n",
            "   1.          1.          1.          0.73826794 -0.21793336  1.\n",
            "   0.99366384  1.          0.52878145]]\n",
            "[0.87570029 0.89723006 0.92483016 0.93333995 1.        ]\n"
          ],
          "name": "stdout"
        }
      ]
    },
    {
      "cell_type": "markdown",
      "metadata": {
        "id": "l2brnrDiQ-MY"
      },
      "source": [
        "# Train model"
      ]
    },
    {
      "cell_type": "code",
      "metadata": {
        "id": "qtzx6HtdRpqB"
      },
      "source": [
        "from tensorflow.keras.layers import Dense, LSTM, Dropout, Bidirectional"
      ],
      "execution_count": 29,
      "outputs": []
    },
    {
      "cell_type": "code",
      "metadata": {
        "id": "6dgyYtmhUIVa"
      },
      "source": [
        "EPOCHS = 100\n",
        "BATCH_SIZE = 32"
      ],
      "execution_count": 30,
      "outputs": []
    },
    {
      "cell_type": "code",
      "metadata": {
        "id": "osbtyQIrUkSp",
        "colab": {
          "base_uri": "https://localhost:8080/"
        },
        "outputId": "a2d933db-a70d-42b3-beb8-1a21c78d7c99"
      },
      "source": [
        "model = tf.keras.Sequential()\n",
        "model.add(Bidirectional(LSTM(units=50, return_sequences=True, input_shape=(x_train.shape[1], x_train.shape[2]))))\n",
        "model.add(Dropout(0.2))\n",
        "model.add(Bidirectional(LSTM(units=50, return_sequences=True)))\n",
        "model.add(Dropout(0.2))\n",
        "model.add(Bidirectional(LSTM(units=50, return_sequences=False)))\n",
        "model.add(Dropout(0.2))\n",
        "model.add(Dense(units=1))\n",
        "\n",
        "model.compile(optimizer='Adam', loss='mean_squared_error')\n",
        "\n",
        "model.fit(x_train, y_train, epochs=EPOCHS, batch_size=BATCH_SIZE)"
      ],
      "execution_count": 31,
      "outputs": [
        {
          "output_type": "stream",
          "text": [
            "Epoch 1/100\n",
            "19/19 [==============================] - 14s 65ms/step - loss: 0.0128\n",
            "Epoch 2/100\n",
            "19/19 [==============================] - 1s 67ms/step - loss: 0.0058\n",
            "Epoch 3/100\n",
            "19/19 [==============================] - 1s 65ms/step - loss: 0.0048\n",
            "Epoch 4/100\n",
            "19/19 [==============================] - 1s 67ms/step - loss: 0.0035\n",
            "Epoch 5/100\n",
            "19/19 [==============================] - 1s 63ms/step - loss: 0.0029\n",
            "Epoch 6/100\n",
            "19/19 [==============================] - 1s 65ms/step - loss: 0.0030\n",
            "Epoch 7/100\n",
            "19/19 [==============================] - 1s 64ms/step - loss: 0.0037\n",
            "Epoch 8/100\n",
            "19/19 [==============================] - 1s 66ms/step - loss: 0.0027\n",
            "Epoch 9/100\n",
            "19/19 [==============================] - 1s 62ms/step - loss: 0.0025\n",
            "Epoch 10/100\n",
            "19/19 [==============================] - 1s 64ms/step - loss: 0.0024\n",
            "Epoch 11/100\n",
            "19/19 [==============================] - 1s 66ms/step - loss: 0.0022\n",
            "Epoch 12/100\n",
            "19/19 [==============================] - 1s 69ms/step - loss: 0.0026\n",
            "Epoch 13/100\n",
            "19/19 [==============================] - 1s 65ms/step - loss: 0.0025\n",
            "Epoch 14/100\n",
            "19/19 [==============================] - 1s 63ms/step - loss: 0.0021\n",
            "Epoch 15/100\n",
            "19/19 [==============================] - 1s 64ms/step - loss: 0.0022\n",
            "Epoch 16/100\n",
            "19/19 [==============================] - 1s 63ms/step - loss: 0.0022\n",
            "Epoch 17/100\n",
            "19/19 [==============================] - 1s 64ms/step - loss: 0.0025\n",
            "Epoch 18/100\n",
            "19/19 [==============================] - 1s 65ms/step - loss: 0.0016\n",
            "Epoch 19/100\n",
            "19/19 [==============================] - 1s 63ms/step - loss: 0.0022\n",
            "Epoch 20/100\n",
            "19/19 [==============================] - 1s 64ms/step - loss: 0.0017\n",
            "Epoch 21/100\n",
            "19/19 [==============================] - 1s 67ms/step - loss: 0.0019\n",
            "Epoch 22/100\n",
            "19/19 [==============================] - 1s 64ms/step - loss: 0.0018\n",
            "Epoch 23/100\n",
            "19/19 [==============================] - 1s 65ms/step - loss: 0.0019\n",
            "Epoch 24/100\n",
            "19/19 [==============================] - 1s 63ms/step - loss: 0.0019\n",
            "Epoch 25/100\n",
            "19/19 [==============================] - 1s 63ms/step - loss: 0.0021\n",
            "Epoch 26/100\n",
            "19/19 [==============================] - 1s 63ms/step - loss: 0.0017\n",
            "Epoch 27/100\n",
            "19/19 [==============================] - 1s 64ms/step - loss: 0.0018\n",
            "Epoch 28/100\n",
            "19/19 [==============================] - 1s 66ms/step - loss: 0.0019\n",
            "Epoch 29/100\n",
            "19/19 [==============================] - 1s 64ms/step - loss: 0.0021\n",
            "Epoch 30/100\n",
            "19/19 [==============================] - 1s 67ms/step - loss: 0.0018\n",
            "Epoch 31/100\n",
            "19/19 [==============================] - 1s 64ms/step - loss: 0.0016\n",
            "Epoch 32/100\n",
            "19/19 [==============================] - 1s 65ms/step - loss: 0.0020\n",
            "Epoch 33/100\n",
            "19/19 [==============================] - 1s 63ms/step - loss: 0.0017\n",
            "Epoch 34/100\n",
            "19/19 [==============================] - 1s 64ms/step - loss: 0.0017\n",
            "Epoch 35/100\n",
            "19/19 [==============================] - 1s 66ms/step - loss: 0.0016\n",
            "Epoch 36/100\n",
            "19/19 [==============================] - 1s 65ms/step - loss: 0.0018\n",
            "Epoch 37/100\n",
            "19/19 [==============================] - 1s 64ms/step - loss: 0.0019\n",
            "Epoch 38/100\n",
            "19/19 [==============================] - 1s 66ms/step - loss: 0.0016\n",
            "Epoch 39/100\n",
            "19/19 [==============================] - 1s 66ms/step - loss: 0.0017\n",
            "Epoch 40/100\n",
            "19/19 [==============================] - 1s 64ms/step - loss: 0.0017\n",
            "Epoch 41/100\n",
            "19/19 [==============================] - 1s 65ms/step - loss: 0.0018\n",
            "Epoch 42/100\n",
            "19/19 [==============================] - 1s 65ms/step - loss: 0.0017\n",
            "Epoch 43/100\n",
            "19/19 [==============================] - 1s 66ms/step - loss: 0.0016\n",
            "Epoch 44/100\n",
            "19/19 [==============================] - 1s 64ms/step - loss: 0.0015\n",
            "Epoch 45/100\n",
            "19/19 [==============================] - 1s 64ms/step - loss: 0.0016\n",
            "Epoch 46/100\n",
            "19/19 [==============================] - 1s 66ms/step - loss: 0.0015\n",
            "Epoch 47/100\n",
            "19/19 [==============================] - 1s 65ms/step - loss: 0.0015\n",
            "Epoch 48/100\n",
            "19/19 [==============================] - 1s 66ms/step - loss: 0.0016\n",
            "Epoch 49/100\n",
            "19/19 [==============================] - 1s 64ms/step - loss: 0.0016\n",
            "Epoch 50/100\n",
            "19/19 [==============================] - 1s 64ms/step - loss: 0.0017\n",
            "Epoch 51/100\n",
            "19/19 [==============================] - 1s 64ms/step - loss: 0.0015\n",
            "Epoch 52/100\n",
            "19/19 [==============================] - 1s 65ms/step - loss: 0.0016\n",
            "Epoch 53/100\n",
            "19/19 [==============================] - 1s 63ms/step - loss: 0.0015\n",
            "Epoch 54/100\n",
            "19/19 [==============================] - 1s 63ms/step - loss: 0.0014\n",
            "Epoch 55/100\n",
            "19/19 [==============================] - 1s 65ms/step - loss: 0.0015\n",
            "Epoch 56/100\n",
            "19/19 [==============================] - 1s 65ms/step - loss: 0.0015\n",
            "Epoch 57/100\n",
            "19/19 [==============================] - 1s 63ms/step - loss: 0.0014\n",
            "Epoch 58/100\n",
            "19/19 [==============================] - 1s 63ms/step - loss: 0.0013\n",
            "Epoch 59/100\n",
            "19/19 [==============================] - 1s 64ms/step - loss: 0.0015\n",
            "Epoch 60/100\n",
            "19/19 [==============================] - 1s 66ms/step - loss: 0.0015\n",
            "Epoch 61/100\n",
            "19/19 [==============================] - 1s 65ms/step - loss: 0.0014\n",
            "Epoch 62/100\n",
            "19/19 [==============================] - 1s 63ms/step - loss: 0.0019\n",
            "Epoch 63/100\n",
            "19/19 [==============================] - 1s 64ms/step - loss: 0.0015\n",
            "Epoch 64/100\n",
            "19/19 [==============================] - 1s 66ms/step - loss: 0.0015\n",
            "Epoch 65/100\n",
            "19/19 [==============================] - 1s 64ms/step - loss: 0.0017\n",
            "Epoch 66/100\n",
            "19/19 [==============================] - 1s 64ms/step - loss: 0.0016\n",
            "Epoch 67/100\n",
            "19/19 [==============================] - 1s 64ms/step - loss: 0.0013\n",
            "Epoch 68/100\n",
            "19/19 [==============================] - 1s 65ms/step - loss: 0.0015\n",
            "Epoch 69/100\n",
            "19/19 [==============================] - 1s 65ms/step - loss: 0.0016\n",
            "Epoch 70/100\n",
            "19/19 [==============================] - 1s 65ms/step - loss: 0.0015\n",
            "Epoch 71/100\n",
            "19/19 [==============================] - 1s 66ms/step - loss: 0.0013\n",
            "Epoch 72/100\n",
            "19/19 [==============================] - 1s 65ms/step - loss: 0.0012\n",
            "Epoch 73/100\n",
            "19/19 [==============================] - 1s 65ms/step - loss: 0.0013\n",
            "Epoch 74/100\n",
            "19/19 [==============================] - 1s 64ms/step - loss: 0.0015\n",
            "Epoch 75/100\n",
            "19/19 [==============================] - 1s 65ms/step - loss: 0.0015\n",
            "Epoch 76/100\n",
            "19/19 [==============================] - 1s 66ms/step - loss: 0.0013\n",
            "Epoch 77/100\n",
            "19/19 [==============================] - 1s 63ms/step - loss: 0.0014\n",
            "Epoch 78/100\n",
            "19/19 [==============================] - 1s 65ms/step - loss: 0.0014\n",
            "Epoch 79/100\n",
            "19/19 [==============================] - 1s 65ms/step - loss: 0.0017\n",
            "Epoch 80/100\n",
            "19/19 [==============================] - 1s 65ms/step - loss: 0.0013\n",
            "Epoch 81/100\n",
            "19/19 [==============================] - 1s 64ms/step - loss: 0.0013\n",
            "Epoch 82/100\n",
            "19/19 [==============================] - 1s 64ms/step - loss: 0.0014\n",
            "Epoch 83/100\n",
            "19/19 [==============================] - 1s 65ms/step - loss: 0.0012\n",
            "Epoch 84/100\n",
            "19/19 [==============================] - 1s 65ms/step - loss: 0.0012\n",
            "Epoch 85/100\n",
            "19/19 [==============================] - 1s 64ms/step - loss: 0.0015\n",
            "Epoch 86/100\n",
            "19/19 [==============================] - 1s 64ms/step - loss: 0.0013\n",
            "Epoch 87/100\n",
            "19/19 [==============================] - 1s 63ms/step - loss: 0.0014\n",
            "Epoch 88/100\n",
            "19/19 [==============================] - 1s 64ms/step - loss: 0.0014\n",
            "Epoch 89/100\n",
            "19/19 [==============================] - 1s 68ms/step - loss: 0.0015\n",
            "Epoch 90/100\n",
            "19/19 [==============================] - 1s 65ms/step - loss: 0.0013\n",
            "Epoch 91/100\n",
            "19/19 [==============================] - 1s 64ms/step - loss: 0.0012\n",
            "Epoch 92/100\n",
            "19/19 [==============================] - 1s 65ms/step - loss: 0.0011\n",
            "Epoch 93/100\n",
            "19/19 [==============================] - 1s 66ms/step - loss: 0.0012\n",
            "Epoch 94/100\n",
            "19/19 [==============================] - 1s 65ms/step - loss: 0.0012\n",
            "Epoch 95/100\n",
            "19/19 [==============================] - 1s 65ms/step - loss: 0.0014\n",
            "Epoch 96/100\n",
            "19/19 [==============================] - 1s 64ms/step - loss: 0.0013\n",
            "Epoch 97/100\n",
            "19/19 [==============================] - 1s 66ms/step - loss: 0.0011\n",
            "Epoch 98/100\n",
            "19/19 [==============================] - 1s 65ms/step - loss: 0.0012\n",
            "Epoch 99/100\n",
            "19/19 [==============================] - 1s 67ms/step - loss: 0.0011\n",
            "Epoch 100/100\n",
            "19/19 [==============================] - 1s 65ms/step - loss: 0.0013\n"
          ],
          "name": "stdout"
        },
        {
          "output_type": "execute_result",
          "data": {
            "text/plain": [
              "<tensorflow.python.keras.callbacks.History at 0x7f01ee82e390>"
            ]
          },
          "metadata": {
            "tags": []
          },
          "execution_count": 31
        }
      ]
    },
    {
      "cell_type": "code",
      "metadata": {
        "colab": {
          "base_uri": "https://localhost:8080/"
        },
        "id": "e-STkOIip5QK",
        "outputId": "f3348ee9-3d31-46b6-c8b4-d5273e5031c7"
      },
      "source": [
        "model.summary()"
      ],
      "execution_count": 32,
      "outputs": [
        {
          "output_type": "stream",
          "text": [
            "Model: \"sequential\"\n",
            "_________________________________________________________________\n",
            "Layer (type)                 Output Shape              Param #   \n",
            "=================================================================\n",
            "bidirectional (Bidirectional (None, 20, 100)           26400     \n",
            "_________________________________________________________________\n",
            "dropout (Dropout)            (None, 20, 100)           0         \n",
            "_________________________________________________________________\n",
            "bidirectional_1 (Bidirection (None, 20, 100)           60400     \n",
            "_________________________________________________________________\n",
            "dropout_1 (Dropout)          (None, 20, 100)           0         \n",
            "_________________________________________________________________\n",
            "bidirectional_2 (Bidirection (None, 100)               60400     \n",
            "_________________________________________________________________\n",
            "dropout_2 (Dropout)          (None, 100)               0         \n",
            "_________________________________________________________________\n",
            "dense (Dense)                (None, 1)                 101       \n",
            "=================================================================\n",
            "Total params: 147,301\n",
            "Trainable params: 147,301\n",
            "Non-trainable params: 0\n",
            "_________________________________________________________________\n"
          ],
          "name": "stdout"
        }
      ]
    },
    {
      "cell_type": "markdown",
      "metadata": {
        "id": "c4uaYvGSRQNP"
      },
      "source": [
        "# Predict"
      ]
    },
    {
      "cell_type": "code",
      "metadata": {
        "colab": {
          "base_uri": "https://localhost:8080/",
          "height": 517
        },
        "id": "B4eFz3mBaezu",
        "outputId": "8671287a-0286-47ed-f0bd-9567efdd39e9"
      },
      "source": [
        "y_predicted = model.predict(x_test)\n",
        "\n",
        "# Plot\n",
        "plt.figure(figsize=(36,10))\n",
        "plt.plot(y_test, color='green', label=\"Actual Index\")\n",
        "plt.plot(y_predicted, color='red', label=\"Predicted Index\")\n",
        "plt.title('Vnindex predict')\n",
        "plt.xlabel('Time')\n",
        "plt.ylabel('Index')\n",
        "plt.legend()\n",
        "plt.show()"
      ],
      "execution_count": 33,
      "outputs": [
        {
          "output_type": "display_data",
          "data": {
            "image/png": "[encoded data removed]",
            "text/plain": [
              "<Figure size 2592x720 with 1 Axes>"
            ]
          },
          "metadata": {
            "tags": [],
            "needs_background": "light"
          }
        }
      ]
    },
    {
      "cell_type": "markdown",
      "metadata": {
        "id": "vAoFBN29RWgU"
      },
      "source": [
        "## Accuracy"
      ]
    },
    {
      "cell_type": "code",
      "metadata": {
        "colab": {
          "base_uri": "https://localhost:8080/"
        },
        "id": "jZk9u9H6iBuu",
        "outputId": "9037eef6-9418-4cbc-e32a-3556a0755305"
      },
      "source": [
        "print(y_predicted.shape)\n",
        "print(y_test.shape)\n",
        "predict_isup = np.diff(y_predicted, axis=0)\n",
        "test_isup = np.diff(y_test)\n",
        "\n",
        "predict_isup = np.where(predict_isup >= 0, 1 ,0).flatten()\n",
        "test_isup = np.where(test_isup >= 0, 1, 0)\n",
        "print(predict_isup[:20])\n",
        "print(test_isup[:20])"
      ],
      "execution_count": 34,
      "outputs": [
        {
          "output_type": "stream",
          "text": [
            "(147, 1)\n",
            "(147,)\n",
            "[0 0 1 1 1 0 0 1 1 1 1 1 0 1 1 1 1 1 1 1]\n",
            "[1 1 1 1 0 1 1 0 1 1 1 0 1 1 1 1 1 1 1 1]\n"
          ],
          "name": "stdout"
        }
      ]
    },
    {
      "cell_type": "code",
      "metadata": {
        "colab": {
          "base_uri": "https://localhost:8080/"
        },
        "id": "MWca4ufazsDa",
        "outputId": "fd12d272-de97-402f-ee0d-8c97c104ab16"
      },
      "source": [
        "cnt = 0\n",
        "for i in range(len(predict_isup)):\n",
        "  if (predict_isup[i] == test_isup[i]):\n",
        "    cnt+=1\n",
        "print(f\"Accuracy =  {cnt}/{len(predict_isup)} = {cnt/len(predict_isup):.2}\")"
      ],
      "execution_count": 35,
      "outputs": [
        {
          "output_type": "stream",
          "text": [
            "Accuracy =  82/146 = 0.56\n"
          ],
          "name": "stdout"
        }
      ]
    },
    {
      "cell_type": "markdown",
      "metadata": {
        "id": "SK5cVA8orChd"
      },
      "source": [
        "# Conclusion\n",
        "\n",
        "The model shows random walk symptom. The prediction is almost the same pattern as the actual data but has a delayed time. The data is autocorrelation which means we cannot use this model to predict future data.\n",
        "\n",
        "To predict future data, the model would need to add more important features, or basically it needs to change to another model to be able to work."
      ]
    }
  ]
}